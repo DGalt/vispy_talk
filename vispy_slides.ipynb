{
 "cells": [
  {
   "cell_type": "markdown",
   "metadata": {
    "slideshow": {
     "slide_type": "slide"
    }
   },
   "source": [
    "<h1 align=\"center\"> (Interactively) Visualizing Large Data Sets with VisPy </h1>\n",
    "\n",
    "<h3 align=\"center\"> ChiPy Scientific SIG - 9/14/16 </h3>"
   ]
  },
  {
   "cell_type": "markdown",
   "metadata": {
    "slideshow": {
     "slide_type": "slide"
    }
   },
   "source": [
    "## Static figures are great...\n",
    "- Matplotlib\n",
    "- Seaborn\n",
    "- ggplot\n",
    "<h2>...but often want to dynamically manipulate data vis </h2>"
   ]
  },
  {
   "cell_type": "markdown",
   "metadata": {
    "slideshow": {
     "slide_type": "slide"
    }
   },
   "source": [
    "<h2 align='center'> Large Data + Interactivity necessitates leveraging the GPU </h2>"
   ]
  },
  {
   "cell_type": "markdown",
   "metadata": {
    "slideshow": {
     "slide_type": "slide"
    }
   },
   "source": [
    "## Enter VisPy\n",
    "\n",
    "### Born out of overlapping efforts by four devs: \n",
    "\n",
    "- Luke Campagnola - PyQtGraph\n",
    "- Almar Klein - Visvis\n",
    "- Cyrille Rossant - Galry\n",
    "- Nicolas Rougier - Glumpy"
   ]
  },
  {
   "cell_type": "markdown",
   "metadata": {
    "slideshow": {
     "slide_type": "slide"
    }
   },
   "source": [
    "<h3 align='center'> \"VisPy leverages the computational power of modern Graphics Processing Units (GPUs) through the OpenGL library\" </h3>"
   ]
  },
  {
   "cell_type": "markdown",
   "metadata": {
    "slideshow": {
     "slide_type": "subslide"
    }
   },
   "source": [
    "# OpenGL Pipeline\n",
    "\n",
    "<img src=\"gl-pipeline.png\">\n",
    "<h6 align='right'> source: https://glumpy.github.io/modern-gl.html <h6>"
   ]
  },
  {
   "cell_type": "markdown",
   "metadata": {
    "slideshow": {
     "slide_type": "slide"
    }
   },
   "source": [
    "<h3 align='center'> VisPy works by embedding GLSL in Python code and then handing it off to OpenGL to be compiled and run on the GPU </h3>"
   ]
  },
  {
   "cell_type": "markdown",
   "metadata": {
    "slideshow": {
     "slide_type": "slide"
    }
   },
   "source": [
    "# VisPy Hierarchy\n",
    "\n",
    "### Each step up moves you away from directly interacting with OpenGL\n",
    "\n",
    "- vispy.plot - top level visualization tools\n",
    "- vispy.scene - management system underlying top level tools\n",
    "- vispy.visuals - all the various objects one might draw\n",
    "- vispy.gloo - Pythonic object-oriented interface to OpenGL"
   ]
  },
  {
   "cell_type": "markdown",
   "metadata": {
    "slideshow": {
     "slide_type": "slide"
    }
   },
   "source": [
    "<h1 align='center'>Demos</h1>\n",
    "<br><br>"
   ]
  }
 ],
 "metadata": {
  "celltoolbar": "Slideshow",
  "kernelspec": {
   "display_name": "Python 3",
   "language": "python",
   "name": "python3"
  },
  "language_info": {
   "codemirror_mode": {
    "name": "ipython",
    "version": 3
   },
   "file_extension": ".py",
   "mimetype": "text/x-python",
   "name": "python",
   "nbconvert_exporter": "python",
   "pygments_lexer": "ipython3",
   "version": "3.5.0"
  }
 },
 "nbformat": 4,
 "nbformat_minor": 0
}
